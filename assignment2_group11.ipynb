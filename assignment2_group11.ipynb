{
  "cells": [
    {
      "cell_type": "markdown",
      "metadata": {
        "id": "tNY66pKKQb1e"
      },
      "source": [
        "# ENEL 645 Assignment 2\n",
        "Group 11 Team Members: Steven Au, Laurel Flanagan, Rhys Wickens, Austen Zhang"
      ]
    },
    {
      "cell_type": "markdown",
      "metadata": {
        "id": "IMLOOi0GQM5B"
      },
      "source": [
        "## Image Classification Transfer Learning\n",
        "Pre-trained Model: Efficient Net V2 S (https://pytorch.org/vision/main/models/generated/torchvision.models.efficientnet_v2_s.html#torchvision.models.efficientnet_v2_s)"
      ]
    },
    {
      "cell_type": "code",
      "execution_count": null,
      "metadata": {
        "id": "vV8_lUSaP4Di"
      },
      "outputs": [
        {
          "name": "stderr",
          "output_type": "stream",
          "text": [
            "Downloading: \"https://download.pytorch.org/models/efficientnet_v2_s-dd5fe13b.pth\" to C:\\Users\\rhysw/.cache\\torch\\hub\\checkpoints\\efficientnet_v2_s-dd5fe13b.pth\n",
            "100%|██████████| 82.7M/82.7M [00:06<00:00, 14.0MB/s]\n"
          ]
        },
        {
          "name": "stdout",
          "output_type": "stream",
          "text": [
            "Epoch 1/20\n",
            "train Loss: 1.3184 Acc: 0.3830\n",
            "val Loss: 1.2754 Acc: 0.4545\n",
            "Epoch 2/20\n",
            "train Loss: 1.1786 Acc: 0.4731\n",
            "val Loss: 1.1917 Acc: 0.6477\n",
            "Epoch 3/20\n",
            "train Loss: 1.0860 Acc: 0.5754\n",
            "val Loss: 1.1136 Acc: 0.6477\n",
            "Epoch 4/20\n",
            "train Loss: 1.0211 Acc: 0.6603\n",
            "val Loss: 1.0411 Acc: 0.6818\n",
            "Epoch 5/20\n",
            "train Loss: 0.9580 Acc: 0.6620\n",
            "val Loss: 0.9873 Acc: 0.6932\n",
            "Epoch 6/20\n",
            "train Loss: 0.9145 Acc: 0.6898\n",
            "val Loss: 0.9621 Acc: 0.6591\n",
            "Epoch 7/20\n",
            "train Loss: 0.8503 Acc: 0.6967\n",
            "val Loss: 0.9268 Acc: 0.6705\n",
            "Epoch 8/20\n",
            "train Loss: 0.8257 Acc: 0.7227\n",
            "val Loss: 0.9133 Acc: 0.6705\n",
            "Epoch 9/20\n",
            "train Loss: 0.8101 Acc: 0.7175\n",
            "val Loss: 0.8939 Acc: 0.6932\n",
            "Epoch 10/20\n",
            "train Loss: 0.7831 Acc: 0.7383\n",
            "val Loss: 0.8749 Acc: 0.6932\n",
            "Epoch 11/20\n",
            "train Loss: 0.7583 Acc: 0.7383\n",
            "val Loss: 0.8663 Acc: 0.7045\n",
            "Epoch 12/20\n",
            "train Loss: 0.7296 Acc: 0.7435\n",
            "val Loss: 0.8557 Acc: 0.6932\n",
            "Epoch 13/20\n",
            "train Loss: 0.7075 Acc: 0.7591\n",
            "val Loss: 0.8490 Acc: 0.6932\n",
            "Epoch 14/20\n",
            "train Loss: 0.6759 Acc: 0.7626\n",
            "val Loss: 0.8472 Acc: 0.6932\n",
            "Epoch 15/20\n",
            "train Loss: 0.6819 Acc: 0.7660\n",
            "val Loss: 0.8295 Acc: 0.6932\n",
            "Epoch 16/20\n",
            "train Loss: 0.6804 Acc: 0.7487\n",
            "val Loss: 0.8251 Acc: 0.6932\n",
            "Epoch 17/20\n",
            "train Loss: 0.6626 Acc: 0.7487\n",
            "val Loss: 0.8266 Acc: 0.6932\n",
            "Epoch 18/20\n",
            "train Loss: 0.6398 Acc: 0.7660\n",
            "val Loss: 0.8190 Acc: 0.6932\n",
            "Epoch 19/20\n",
            "train Loss: 0.6440 Acc: 0.7556\n",
            "val Loss: 0.8155 Acc: 0.7045\n",
            "Epoch 20/20\n",
            "train Loss: 0.6141 Acc: 0.7938\n",
            "val Loss: 0.8177 Acc: 0.7045\n",
            "Best val Acc: 0.7045\n"
          ]
        },
        {
          "name": "stderr",
          "output_type": "stream",
          "text": [
            "C:\\Users\\rhysw\\AppData\\Local\\Temp\\ipykernel_27800\\3417665594.py:108: FutureWarning: You are using `torch.load` with `weights_only=False` (the current default value), which uses the default pickle module implicitly. It is possible to construct malicious pickle data which will execute arbitrary code during unpickling (See https://github.com/pytorch/pytorch/blob/main/SECURITY.md#untrusted-models for more details). In a future release, the default value for `weights_only` will be flipped to `True`. This limits the functions that could be executed during unpickling. Arbitrary objects will no longer be allowed to be loaded via this mode unless they are explicitly allowlisted by the user via `torch.serialization.add_safe_globals`. We recommend you start setting `weights_only=True` for any use case where you don't have full control of the loaded file. Please open an issue on GitHub for any issues related to this experimental feature.\n",
            "  model.load_state_dict(torch.load(\"best_model.pth\"))\n"
          ]
        },
        {
          "name": "stdout",
          "output_type": "stream",
          "text": [
            "Test Accuracy: 56.80%\n"
          ]
        }
      ],
      "source": [
        "import torch\n",
        "import torch.nn as nn\n",
        "import torch.optim as optim\n",
        "from torchvision import datasets, transforms, models\n",
        "from torch.utils.data import DataLoader\n",
        "import os\n",
        "\n",
        "\n",
        "# Define data directories\n",
        "data_dir = \"/content/drive/MyDrive/Colab Notebooks/ENEL 645/CVPR_2024_dataset_Subset\" #UPDATE DIRECTORY\n",
        "# data_dir = r\"C:\\Users\\rhysw\\OneDrive\\Documents\\UofC Masters\\Winter\\ENEL 645\\Assignments\\A2\" #UPDATE DIRECTORY\n",
        "train_dir = os.path.join(data_dir, \"CVPR_2024_dataset_Train\")\n",
        "val_dir = os.path.join(data_dir, \"CVPR_2024_dataset_Val\")\n",
        "test_dir = os.path.join(data_dir, \"CVPR_2024_dataset_Test\")\n",
        "\n",
        "# Define transformations\n",
        "transform = {\n",
        "    \"train\": transforms.Compose([\n",
        "        models.EfficientNet_V2_S_Weights.IMAGENET1K_V1.transforms(), # This includes the following preprocessing: The images are resized to resize_size=[384] using interpolation=InterpolationMode.BILINEAR,\n",
        "        # followed by a central crop of crop_size=[384]. Finally, the values are first rescaled to [0.0, 1.0] and then normalized using mean=[0.485, 0.456, 0.406] and std=[0.229, 0.224, 0.225]\n",
        "        transforms.RandomHorizontalFlip(), # additional data augmentation step added to training data set\n",
        "    ]),\n",
        "    \"val\": models.EfficientNet_V2_S_Weights.IMAGENET1K_V1.transforms(),\n",
        "    \"test\": models.EfficientNet_V2_S_Weights.IMAGENET1K_V1.transforms(),\n",
        "}\n",
        "\n",
        "# Load datasets\n",
        "datasets = {\n",
        "    \"train\": datasets.ImageFolder(train_dir, transform=transform[\"train\"]), #converts Image folder into PyTorch dataset\n",
        "    \"val\": datasets.ImageFolder(val_dir, transform=transform[\"val\"]),\n",
        "    \"test\": datasets.ImageFolder(test_dir, transform=transform[\"test\"]),\n",
        "}\n",
        "\n",
        "# Define data loaders\n",
        "dataloaders = {\n",
        "    \"train\": DataLoader(datasets[\"train\"], batch_size=128, shuffle=True, num_workers=4),\n",
        "    \"val\": DataLoader(datasets[\"val\"], batch_size=128, shuffle=False, num_workers=4),\n",
        "    \"test\": DataLoader(datasets[\"test\"], batch_size=128, shuffle=False, num_workers=4),\n",
        "\n",
        "}\n",
        "\n",
        "# Load the pre-trained EfficientNet_V2_S model with recommended weights\n",
        "model = models.efficientnet_v2_s(weights=models.EfficientNet_V2_S_Weights.IMAGENET1K_V1)\n",
        "\n",
        "# Freeze all layers except the last classifier\n",
        "for param in model.features.parameters():\n",
        "    param.requires_grad = False\n",
        "\n",
        "# Modify the classifier for 4-class classification\n",
        "num_features = model.classifier[1].in_features # input size for last fully connected layer\n",
        "model.classifier[1] = nn.Linear(num_features, 4) # output size of 4 classes\n",
        "\n",
        "# Move model to GPU if available\n",
        "device = torch.device(\"cuda\" if torch.cuda.is_available() else \"cpu\")\n",
        "model = model.to(device)\n",
        "\n",
        "# Define loss function and optimizer\n",
        "criterion = nn.CrossEntropyLoss()\n",
        "optimizer = optim.Adam(model.classifier[1].parameters(), lr=0.001) # optimize parameters of classifier, not feature extraction layers\n",
        "\n",
        "# Training function\n",
        "def train_model(model, dataloaders, criterion, optimizer, num_epochs=10):\n",
        "    best_acc = 0.0\n",
        "    for epoch in range(num_epochs):\n",
        "        print(f\"Epoch {epoch + 1}/{num_epochs}\")\n",
        "        for phase in [\"train\", \"val\"]:\n",
        "            if phase == \"train\":\n",
        "                model.train()\n",
        "            else:\n",
        "                model.eval() # turns off layers not needed during prediction, like dropout layer\n",
        "\n",
        "            running_loss = 0.0\n",
        "            running_corrects = 0\n",
        "\n",
        "            for inputs, labels in dataloaders[phase]:\n",
        "                inputs, labels = inputs.to(device), labels.to(device)\n",
        "                optimizer.zero_grad()\n",
        "\n",
        "                with torch.set_grad_enabled(phase == \"train\"):\n",
        "                    outputs = model(inputs)\n",
        "                    loss = criterion(outputs, labels)\n",
        "                    _, preds = torch.max(outputs, 1)\n",
        "\n",
        "                    if phase == \"train\":\n",
        "                        loss.backward()\n",
        "                        optimizer.step()\n",
        "\n",
        "                running_loss += loss.item() * inputs.size(0)\n",
        "                running_corrects += torch.sum(preds == labels.data)\n",
        "\n",
        "            epoch_loss = running_loss / len(dataloaders[phase].dataset)\n",
        "            epoch_acc = running_corrects.double() / len(dataloaders[phase].dataset)\n",
        "\n",
        "            print(f\"{phase} Loss: {epoch_loss:.4f} Acc: {epoch_acc:.4f}\")\n",
        "\n",
        "            if phase == \"val\" and epoch_acc > best_acc:\n",
        "                best_acc = epoch_acc\n",
        "                torch.save(model.state_dict(), \"best_model.pth\")\n",
        "\n",
        "    print(f\"Best val Acc: {best_acc:.4f}\")\n",
        "    return model\n",
        "\n",
        "# Train the model\n",
        "model = train_model(model, dataloaders, criterion, optimizer, num_epochs=20)\n",
        "\n",
        "# Test function\n",
        "def test_model(model, dataloader):\n",
        "    model.load_state_dict(torch.load(\"best_model.pth\"))\n",
        "    model.eval()\n",
        "    correct = 0\n",
        "    total = 0\n",
        "    with torch.no_grad():\n",
        "        for inputs, labels in dataloader:\n",
        "            inputs, labels = inputs.to(device), labels.to(device)\n",
        "            outputs = model(inputs)\n",
        "            _, preds = torch.max(outputs, 1) # use max function to get exact label\n",
        "            correct += torch.sum(preds == labels).item()\n",
        "            total += labels.size(0)\n",
        "    print(f\"Test Accuracy: {100 * correct / total:.2f}%\")\n",
        "\n",
        "# Evaluate the model on the test set\n",
        "test_model(model, dataloaders[\"test\"])"
      ]
    },
    {
      "cell_type": "markdown",
      "metadata": {},
      "source": [
        "## Text Classification Transfer Learning\n",
        "Pre-trained model: DistilBERT Classifier"
      ]
    },
    {
      "cell_type": "code",
      "execution_count": 5,
      "metadata": {},
      "outputs": [],
      "source": [
        "import torch\n",
        "import torch.nn as nn\n",
        "import torch.optim as optim\n",
        "from torch.utils.data import DataLoader, Dataset\n",
        "from transformers import DistilBertModel, DistilBertTokenizer\n",
        "import matplotlib.pyplot as plt\n",
        "import numpy as np\n",
        "import os\n",
        "import re\n",
        "from sklearn.metrics import confusion_matrix\n",
        "import seaborn as sns"
      ]
    },
    {
      "cell_type": "code",
      "execution_count": 6,
      "metadata": {},
      "outputs": [],
      "source": [
        "# Define functions\n",
        "\n",
        "# Extract text from file names as well as labels\n",
        "def read_text_files_with_labels(path):\n",
        "    texts = []\n",
        "    labels = []\n",
        "    class_folders = sorted(os.listdir(path))  # Assuming class folders are sorted\n",
        "    label_map = {class_name: idx for idx, class_name in enumerate(class_folders)}\n",
        "\n",
        "    for class_name in class_folders:\n",
        "        class_path = os.path.join(path, class_name)\n",
        "        if os.path.isdir(class_path):\n",
        "            file_names = os.listdir(class_path)\n",
        "            for file_name in file_names:\n",
        "                file_path = os.path.join(class_path, file_name)\n",
        "                if os.path.isfile(file_path):\n",
        "                    file_name_no_ext, _ = os.path.splitext(file_name)\n",
        "                    text = file_name_no_ext.replace('_', ' ')\n",
        "                    text_without_digits = re.sub(r'\\d+', '', text)\n",
        "                    texts.append(text_without_digits)\n",
        "                    labels.append(label_map[class_name])\n",
        "\n",
        "    return np.array(texts), np.array(labels)\n",
        "\n",
        "# Define your dataset class\n",
        "class CustomDataset(Dataset):\n",
        "    def __init__(self, texts, labels, tokenizer, max_len):\n",
        "        self.texts = texts\n",
        "        self.labels = labels\n",
        "        self.tokenizer = tokenizer\n",
        "        self.max_len = max_len\n",
        "\n",
        "    def __len__(self):\n",
        "        return len(self.texts)\n",
        "\n",
        "    def __getitem__(self, idx):\n",
        "        text = str(self.texts[idx])\n",
        "        label = self.labels[idx]\n",
        "\n",
        "        encoding = self.tokenizer.encode_plus(\n",
        "            text,\n",
        "            add_special_tokens=True,\n",
        "            max_length=self.max_len,\n",
        "            return_token_type_ids=False,\n",
        "            padding='max_length',\n",
        "            truncation=True,\n",
        "            return_attention_mask=True,\n",
        "            return_tensors='pt'\n",
        "        )\n",
        "\n",
        "        return {\n",
        "            'text': text,\n",
        "            'input_ids': encoding['input_ids'].flatten(),\n",
        "            'attention_mask': encoding['attention_mask'].flatten(),\n",
        "            'label': torch.tensor(label, dtype=torch.long)\n",
        "        }\n",
        "\n",
        "# Define the model\n",
        "class DistilBERTClassifier(nn.Module):\n",
        "    def __init__(self, num_classes):\n",
        "        super(DistilBERTClassifier, self).__init__()\n",
        "        self.distilbert = DistilBertModel.from_pretrained('distilbert-base-uncased')\n",
        "        self.drop = nn.Dropout(0.3)\n",
        "        self.out = nn.Linear(self.distilbert.config.hidden_size, num_classes)\n",
        "\n",
        "    def forward(self, input_ids, attention_mask):\n",
        "        pooled_output = self.distilbert(input_ids=input_ids, attention_mask=attention_mask)[0]\n",
        "        output = self.drop(pooled_output[:,0])\n",
        "        return self.out(output)\n",
        "\n",
        "# Define training function\n",
        "def train(model, iterator, optimizer, criterion, device):\n",
        "    model.train()\n",
        "    total_loss = 0\n",
        "    for batch in iterator:\n",
        "        input_ids = batch['input_ids'].to(device)\n",
        "        attention_mask = batch['attention_mask'].to(device)\n",
        "        labels = batch['label'].to(device)\n",
        "\n",
        "        optimizer.zero_grad()\n",
        "        output = model(input_ids, attention_mask)\n",
        "        loss = criterion(output, labels)\n",
        "        loss.backward()\n",
        "        optimizer.step()\n",
        "\n",
        "        total_loss += loss.item()\n",
        "\n",
        "    return total_loss / len(iterator)\n",
        "\n",
        "# Define evaluation function\n",
        "def evaluate(model, iterator, criterion, device):\n",
        "    model.eval() # set model to evaluation model\n",
        "    total_loss = 0\n",
        "    with torch.no_grad(): # don't need dropout to be active so we disable gradients\n",
        "        for batch in iterator:\n",
        "            input_ids = batch['input_ids'].to(device)\n",
        "            attention_mask = batch['attention_mask'].to(device)\n",
        "            labels = batch['label'].to(device)\n",
        "\n",
        "            output = model(input_ids, attention_mask)\n",
        "            loss = criterion(output, labels)\n",
        "\n",
        "            total_loss += loss.item()\n",
        "\n",
        "    return total_loss / len(iterator)\n",
        "\n",
        "# Define prediction function\n",
        "def predict(model, dataloader, device):\n",
        "    model.eval()  # Set the model to evaluation mode\n",
        "    predictions = []\n",
        "    with torch.no_grad():  # Disable gradient tracking\n",
        "        for batch in dataloader:\n",
        "            input_ids = batch['input_ids'].to(device)  # Assuming input_ids are in the batch\n",
        "            attention_mask = batch['attention_mask'].to(device)  # Assuming attention_mask is in the batch\n",
        "\n",
        "            # Forward pass\n",
        "            outputs = model(input_ids, attention_mask)\n",
        "\n",
        "            # Get predictions\n",
        "            _, preds = torch.max(outputs, dim=1)\n",
        "\n",
        "            # Convert predictions to CPU and append to the list\n",
        "            predictions.extend(preds.cpu().numpy())\n",
        "\n",
        "    return predictions"
      ]
    },
    {
      "cell_type": "code",
      "execution_count": 7,
      "metadata": {},
      "outputs": [],
      "source": [
        "# Use the paths for the data from the image classification\n",
        "\n",
        "text_train,labels_train = read_text_files_with_labels(train_dir)\n",
        "text_val,labels_val = read_text_files_with_labels(val_dir)\n",
        "text_test,labels_test = read_text_files_with_labels(test_dir)"
      ]
    },
    {
      "cell_type": "code",
      "execution_count": null,
      "metadata": {},
      "outputs": [
        {
          "data": {
            "application/vnd.jupyter.widget-view+json": {
              "model_id": "18ee9d72b8014026a54df4e0313790b0",
              "version_major": 2,
              "version_minor": 0
            },
            "text/plain": [
              "tokenizer_config.json:   0%|          | 0.00/48.0 [00:00<?, ?B/s]"
            ]
          },
          "metadata": {},
          "output_type": "display_data"
        },
        {
          "name": "stderr",
          "output_type": "stream",
          "text": [
            "C:\\Users\\rhysw\\AppData\\Local\\Packages\\PythonSoftwareFoundation.Python.3.12_qbz5n2kfra8p0\\LocalCache\\local-packages\\Python312\\site-packages\\huggingface_hub\\file_download.py:142: UserWarning: `huggingface_hub` cache-system uses symlinks by default to efficiently store duplicated files but your machine does not support them in C:\\Users\\rhysw\\.cache\\huggingface\\hub\\models--distilbert-base-uncased. Caching files will still work but in a degraded version that might require more space on your disk. This warning can be disabled by setting the `HF_HUB_DISABLE_SYMLINKS_WARNING` environment variable. For more details, see https://huggingface.co/docs/huggingface_hub/how-to-cache#limitations.\n",
            "To support symlinks on Windows, you either need to activate Developer Mode or to run Python as an administrator. In order to activate developer mode, see this article: https://docs.microsoft.com/en-us/windows/apps/get-started/enable-your-device-for-development\n",
            "  warnings.warn(message)\n"
          ]
        },
        {
          "data": {
            "application/vnd.jupyter.widget-view+json": {
              "model_id": "8798f57eb345446d98cd3c2e0b7404cc",
              "version_major": 2,
              "version_minor": 0
            },
            "text/plain": [
              "vocab.txt:   0%|          | 0.00/232k [00:00<?, ?B/s]"
            ]
          },
          "metadata": {},
          "output_type": "display_data"
        },
        {
          "data": {
            "application/vnd.jupyter.widget-view+json": {
              "model_id": "601d9109c11f4b6da619ca3e56919f51",
              "version_major": 2,
              "version_minor": 0
            },
            "text/plain": [
              "tokenizer.json:   0%|          | 0.00/466k [00:00<?, ?B/s]"
            ]
          },
          "metadata": {},
          "output_type": "display_data"
        },
        {
          "data": {
            "application/vnd.jupyter.widget-view+json": {
              "model_id": "418e5c953110417a83986177b5f230a3",
              "version_major": 2,
              "version_minor": 0
            },
            "text/plain": [
              "config.json:   0%|          | 0.00/483 [00:00<?, ?B/s]"
            ]
          },
          "metadata": {},
          "output_type": "display_data"
        },
        {
          "data": {
            "application/vnd.jupyter.widget-view+json": {
              "model_id": "74927ef5e5db46e1bdf05acdcb977914",
              "version_major": 2,
              "version_minor": 0
            },
            "text/plain": [
              "model.safetensors:   0%|          | 0.00/268M [00:00<?, ?B/s]"
            ]
          },
          "metadata": {},
          "output_type": "display_data"
        },
        {
          "name": "stdout",
          "output_type": "stream",
          "text": [
            "Epoch: 1, Train Loss: 1.2118\n",
            "Epoch: 1, Val Loss: 0.9150\n",
            "Epoch: 2, Train Loss: 0.7579\n",
            "Epoch: 2, Val Loss: 0.5738\n",
            "Epoch: 3, Train Loss: 0.4443\n",
            "Epoch: 3, Val Loss: 0.5192\n",
            "Epoch: 4, Train Loss: 0.2504\n",
            "Epoch: 4, Val Loss: 0.5777\n"
          ]
        }
      ],
      "source": [
        "# Tokenizer\n",
        "tokenizer = DistilBertTokenizer.from_pretrained('distilbert-base-uncased')\n",
        "\n",
        "# Tokenize data\n",
        "max_len = 24\n",
        "dataset_train = CustomDataset(text_train, labels_train, tokenizer, max_len)\n",
        "dataset_val = CustomDataset(text_val, labels_val, tokenizer, max_len)\n",
        "dataset_test = CustomDataset(text_test, labels_test, tokenizer, max_len)\n",
        "\n",
        "# Data loaders\n",
        "train_loader = DataLoader(dataset_train, batch_size=128, shuffle=True)\n",
        "val_loader = DataLoader(dataset_val, batch_size=128, shuffle=False)\n",
        "test_loader = DataLoader(dataset_test, batch_size=128, shuffle=False)\n",
        "\n",
        "best_loss = 1e+10 # best loss tracker\n",
        "EPOCHS = 4\n",
        "\n",
        "# Model\n",
        "device = torch.device('cuda' if torch.cuda.is_available() else 'cpu')\n",
        "text_model = DistilBERTClassifier(num_classes=4).to(device)\n",
        "\n",
        "# Training parameters\n",
        "optimizer = optim.Adam(text_model.parameters(), lr=0.0001)\n",
        "criterion = nn.CrossEntropyLoss()\n",
        "\n",
        "# Training loop\n",
        "for epoch in range(EPOCHS):\n",
        "    train_loss = train(text_model, train_loader, optimizer, criterion, device)\n",
        "    print(f'Epoch: {epoch+1}, Train Loss: {train_loss:.4f}')\n",
        "    val_loss = evaluate(text_model, val_loader, criterion, device)\n",
        "    print(f'Epoch: {epoch+1}, Val Loss: {val_loss:.4f}')\n",
        "    if val_loss < best_loss:\n",
        "        best_loss = val_loss\n",
        "        torch.save(text_model.state_dict(), 'best_model.pth')"
      ]
    },
    {
      "cell_type": "code",
      "execution_count": 9,
      "metadata": {},
      "outputs": [
        {
          "name": "stderr",
          "output_type": "stream",
          "text": [
            "C:\\Users\\rhysw\\AppData\\Local\\Temp\\ipykernel_27800\\2595054650.py:1: FutureWarning: You are using `torch.load` with `weights_only=False` (the current default value), which uses the default pickle module implicitly. It is possible to construct malicious pickle data which will execute arbitrary code during unpickling (See https://github.com/pytorch/pytorch/blob/main/SECURITY.md#untrusted-models for more details). In a future release, the default value for `weights_only` will be flipped to `True`. This limits the functions that could be executed during unpickling. Arbitrary objects will no longer be allowed to be loaded via this mode unless they are explicitly allowlisted by the user via `torch.serialization.add_safe_globals`. We recommend you start setting `weights_only=True` for any use case where you don't have full control of the loaded file. Please open an issue on GitHub for any issues related to this experimental feature.\n",
            "  text_model.load_state_dict(torch.load('best_model.pth'))\n"
          ]
        },
        {
          "name": "stdout",
          "output_type": "stream",
          "text": [
            "Accuracy:  0.7811\n"
          ]
        }
      ],
      "source": [
        "text_model.load_state_dict(torch.load('best_model.pth'))\n",
        "# Evaluation\n",
        "test_predictions = predict(text_model, test_loader, device)\n",
        "print(f\"Accuracy:  {(test_predictions == labels_test).sum()/labels_test.size:.4f}\")"
      ]
    },
    {
      "cell_type": "code",
      "execution_count": 10,
      "metadata": {},
      "outputs": [
        {
          "data": {
            "image/png": "[encoded data removed]",
            "text/plain": [
              "<Figure size 800x600 with 1 Axes>"
            ]
          },
          "metadata": {},
          "output_type": "display_data"
        }
      ],
      "source": [
        "cm = confusion_matrix(labels_test, test_predictions)\n",
        "\n",
        "# Plot confusion matrix\n",
        "plt.figure(figsize=(8, 6))\n",
        "sns.heatmap(cm, annot=True, cmap='Blues', fmt='g', cbar=False)\n",
        "\n",
        "plt.title('Confusion Matrix')\n",
        "plt.xlabel('Predicted Labels')\n",
        "plt.ylabel('True Labels')\n",
        "plt.show()"
      ]
    }
  ],
  "metadata": {
    "colab": {
      "provenance": []
    },
    "kernelspec": {
      "display_name": "Python 3",
      "name": "python3"
    },
    "language_info": {
      "codemirror_mode": {
        "name": "ipython",
        "version": 3
      },
      "file_extension": ".py",
      "mimetype": "text/x-python",
      "name": "python",
      "nbconvert_exporter": "python",
      "pygments_lexer": "ipython3",
      "version": "3.12.9"
    }
  },
  "nbformat": 4,
  "nbformat_minor": 0
}
